
{
 "cells": [
  {
   "cell_type": "markdown",
   "metadata": {},
   "source": ["# ベイズ推定と事後分布の可視化"]
  },
  {
   "cell_type": "code",
   "execution_count": null,
   "metadata": {},
   "outputs": [],
   "source": [
    "import pandas as pd\n",
    "import pymc as pm\n",
    "import arviz as az\n",
    "import matplotlib.pyplot as plt\n",
    "data = pd.read_csv('../data/campaign_data.csv')\n",
    "control = data[data['group'] == 'control']['converted'].values\n",
    "treatment = data[data['group'] == 'treatment']['converted'].values\n",
    "with pm.Model() as model:\n",
    "    alpha = beta = 1\n",
    "    p_c = pm.Beta('p_control', alpha, beta)\n",
    "    p_t = pm.Beta('p_treatment', alpha, beta)\n",
    "    obs_c = pm.Bernoulli('obs_control', p=p_c, observed=control)\n",
    "    obs_t = pm.Bernoulli('obs_treatment', p=p_t, observed=treatment)\n",
    "    diff = pm.Deterministic('difference', p_t - p_c)\n",
    "    trace = pm.sample(2000, return_inferencedata=True)\n",
    "az.plot_posterior(trace, var_names=['p_control', 'p_treatment', 'difference'])"
   ]
  }
 ],
 "metadata": {},
 "nbformat": 4,
 "nbformat_minor": 2
}
